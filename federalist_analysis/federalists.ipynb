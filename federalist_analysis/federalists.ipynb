{
 "cells": [
  {
   "cell_type": "markdown",
   "metadata": {},
   "source": [
    "# Notes\n",
    "\n",
    "Using spaCy\n",
    "- See the deep dive guides on https://spacy.io/docs/usage/tutorials\n",
    "- In particular: https://github.com/JonathanReeve/advanced-text-analysis-workshop-2017\n",
    "\n",
    "General resources on NLP:\n",
    "- Awesome curated list of resources: https://github.com/keon/awesome-nlp\n",
    "\n",
    "Splitting up the text in chapters: https://github.com/JonathanReeve/chapterize\n",
    "\n",
    "Possibly relevant, higher level library for spaCy interaction: https://github.com/chartbeat-labs/textacy\n",
    "\n",
    "\n",
    "\n",
    "## Content analysis\n",
    "Frequency things to look at:\n",
    "- Words with interesting presence in corpus, to get a first impression.\n",
    "- Presence of select terms based on that across the corpus.\n",
    "- Probability measures of custom terms across the corpus.\n",
    "- Chunk corpus into the separate essays and look at dispersion of frequencies.\n",
    "- Visualizations \n",
    "- Comparisons with a reference corpus\n",
    "\n",
    "Ngrams, collocations\n",
    "\n",
    "Topical analysis:\n",
    "- Most prevalent verbs and their most prevalent valency actants.\n",
    "- Topic modelling\n",
    "\n",
    "## Linguistic analysis\n",
    "\n",
    "- Syntactical tendencies in the whole corpus and in separate texts.\n",
    "- Stylometric analysis and author identification/dispersion across the texts. Correspondence with known authorships?\n",
    "- Dominant syntactical structures?\n",
    "- Sentence length (compared to reference corpus, modern English).\n",
    "- Average nesting depth.\n",
    "\n",
    "## Cases\n",
    "\n",
    "Attribution dispute, cf. the [wikipedia section](https://en.wikipedia.org/wiki/The_Federalist_Papers#Disputed_essays):\n",
    "- Can we replicate some of the already published studies?\n",
    "- Supplement the results by other analyses? Contradict, support?"
   ]
  },
  {
   "cell_type": "markdown",
   "metadata": {},
   "source": [
    "First, we need to prepare our corpus. In this case we have a very small corpus, so it would be a simple task to download the file manually through a web browser. But it is incredibly useful to be able to do it programmatically in stead. To do that we will use some functionality from the built-in Python library `urllib`."
   ]
  },
  {
   "cell_type": "code",
   "execution_count": 33,
   "metadata": {
    "collapsed": true
   },
   "outputs": [],
   "source": [
    "from urllib import request\n",
    "import os\n",
    "\n",
    "def download_to_file(url, directory='./data', filename='download.txt'):\n",
    "    web_response = request.urlopen(url)\n",
    "    web_content = web_response.read().decode('utf-8')\n",
    "    \n",
    "    if not os.path.isdir(directory):\n",
    "        os.mkdir(directory)\n",
    "    full_filename = os.path.join(directory, filename)\n",
    "    \n",
    "    with open(full_filename, mode='w', encoding='utf-8') as f:\n",
    "        f.write(web_content)\n",
    "    return f"
   ]
  },
  {
   "cell_type": "markdown",
   "metadata": {},
   "source": [
    "This function downloads the content of the `url` into a file. If none of the two keyword arguments are specified, the file will be saved in the current working directory with the filename `download.txt`. \n",
    "\n",
    "*The Federalist Papers* can be downloaded as a single plain text file from [Project Gutenberg](www.gutenberg.org). The specific address is: https://www.gutenberg.org/cache/epub/1404/pg1404.txt. \n",
    "\n",
    "So let's download that: "
   ]
  },
  {
   "cell_type": "code",
   "execution_count": 34,
   "metadata": {
    "collapsed": true
   },
   "outputs": [],
   "source": [
    "federalist_file = download_to_file('https://www.gutenberg.org/cache/epub/1404/pg1404.txt', filename='federalist.txt')"
   ]
  },
  {
   "cell_type": "code",
   "execution_count": 35,
   "metadata": {
    "collapsed": true
   },
   "outputs": [],
   "source": [
    "import time\n",
    "\n",
    "import spacy\n",
    "from spacy.tokens.doc import Doc\n",
    "from spacy.tokens.token import Token\n",
    "from spacy.tokens.span import Span"
   ]
  },
  {
   "cell_type": "markdown",
   "metadata": {},
   "source": [
    "Download the English language model before moving on with `spacy download en`. Then we can load the model."
   ]
  },
  {
   "cell_type": "code",
   "execution_count": 36,
   "metadata": {
    "collapsed": true
   },
   "outputs": [],
   "source": [
    "nlp = spacy.load('en')"
   ]
  },
  {
   "cell_type": "markdown",
   "metadata": {},
   "source": [
    "Now we initialize our document."
   ]
  },
  {
   "cell_type": "code",
   "execution_count": 37,
   "metadata": {},
   "outputs": [],
   "source": [
    "def make_doc(in_file_path) -> Doc:\n",
    "    with open(in_file_path, 'r', encoding='utf-8') as file:\n",
    "        text = file.read()\n",
    "        doc = nlp(text)\n",
    "        print('Teksten indeholder {} ord'.format(len(list(doc))))\n",
    "\n",
    "        return doc"
   ]
  },
  {
   "cell_type": "code",
   "execution_count": 38,
   "metadata": {},
   "outputs": [
    {
     "name": "stdout",
     "output_type": "stream",
     "text": [
      "Teksten indeholder 236196 ord\n",
      "CPU times: user 10.9 s, sys: 152 ms, total: 11.1 s\n",
      "Wall time: 11.1 s\n"
     ]
    }
   ],
   "source": [
    "%%time\n",
    "doc = make_doc(federalist_file.name)"
   ]
  },
  {
   "cell_type": "code",
   "execution_count": 64,
   "metadata": {
    "collapsed": true
   },
   "outputs": [],
   "source": [
    "def find_tokens(doc, lemma_, pos_=None):\n",
    "    return [token for token in doc\n",
    "            if token.lemma_ == lemma_ and (pos_ is None or token.pos_ == pos_)]"
   ]
  },
  {
   "cell_type": "code",
   "execution_count": 105,
   "metadata": {},
   "outputs": [],
   "source": [
    "def count_tokens(*lemma):\n",
    "    words = {}\n",
    "    for lemma in lemma:\n",
    "        words[lemma] = len(find_tokens(doc, lemma))\n",
    "    return words"
   ]
  },
  {
   "cell_type": "code",
   "execution_count": 106,
   "metadata": {},
   "outputs": [
    {
     "data": {
      "text/plain": [
       "{'honor': 21,\n",
       " 'peace': 113,\n",
       " 'state': 1003,\n",
       " 'union': 377,\n",
       " 'unite': 39,\n",
       " 'war': 153}"
      ]
     },
     "execution_count": 106,
     "metadata": {},
     "output_type": "execute_result"
    }
   ],
   "source": [
    "count_tokens('union', 'state', 'unite', 'honor', 'war', 'peace')\n"
   ]
  },
  {
   "cell_type": "code",
   "execution_count": null,
   "metadata": {
    "collapsed": true
   },
   "outputs": [],
   "source": []
  },
  {
   "cell_type": "code",
   "execution_count": 54,
   "metadata": {},
   "outputs": [],
   "source": [
    "from collections import Counter\n",
    "from typing import List, Tuple\n",
    "keywords = Counter()\n",
    "\n",
    "# On probability: The lower the value, the less likely is the word to occur ≈ the more significant \n",
    "# is its occurence. (gleaned from https://github.com/explosion/spaCy/commit/ff9ff6f3fa1fe15191233796e669028a31936dee)\n",
    "\n",
    "def most_significant_words(doc: Doc, count: int = 35,\n",
    "                           probability: int = -8) -> List[Tuple[str, int]]:\n",
    "    for chunk in doc:\n",
    "        # probablity value -8 is arbitrarily selected threshold\n",
    "        if nlp.vocab[chunk.lemma_].prob < probability:\n",
    "            keywords[chunk.lemma_] += 1\n",
    "\n",
    "    return keywords.most_common(count)\n",
    "\n",
    "\n",
    "def most_significant_verbs(doc: Doc, count: int = 35,\n",
    "                           probability: int = -8) -> List[Tuple[str, int]]:\n",
    "    for token in doc:\n",
    "        if token.pos_ == 'VERB' and nlp.vocab[token.lemma_].prob < probability:\n",
    "            keywords[token.lemma_] += 1\n",
    "\n",
    "    return keywords.most_common(count)\n",
    "\n",
    "\n",
    "def most_significant_noun_phrases(doc: Doc, count: int = 35,\n",
    "                                  probability: int = -8) -> List[Tuple[str, int]]:\n",
    "    for chunk in doc.noun_chunks:\n",
    "        if nlp.vocab[chunk.lemma_].prob < probability:\n",
    "            keywords[chunk.lemma_] += 1\n",
    "\n",
    "    return keywords.most_common(count)\n",
    "\n"
   ]
  },
  {
   "cell_type": "code",
   "execution_count": 42,
   "metadata": {
    "scrolled": true
   },
   "outputs": [
    {
     "name": "stdout",
     "output_type": "stream",
     "text": [
      "[('-PRON-', 11608),\n",
      " ('the people', 1008),\n",
      " ('the union', 552),\n",
      " ('the constitution', 434),\n",
      " ('the states', 422),\n",
      " ('the power', 418),\n",
      " ('the government', 402),\n",
      " ('the state', 352),\n",
      " ('the united states', 332),\n",
      " ('the convention', 280)]\n",
      "[('-PRON-', 11608),\n",
      " ('the people', 1008),\n",
      " ('the union', 552),\n",
      " ('the constitution', 434),\n",
      " ('the states', 422),\n",
      " ('the power', 418),\n",
      " ('the government', 402),\n",
      " ('the state', 352),\n",
      " ('the united states', 332),\n",
      " ('the convention', 280)]\n"
     ]
    }
   ],
   "source": [
    "from pprint import pprint\n",
    "pprint(most_significant_noun_phrases(doc, probability=-10, count=10))\n",
    "pprint(most_significant_noun_phrases(doc, probability=-20, count=10))"
   ]
  },
  {
   "cell_type": "code",
   "execution_count": 55,
   "metadata": {},
   "outputs": [
    {
     "name": "stdout",
     "output_type": "stream",
     "text": [
      "[('ought', 275),\n",
      " ('shall', 254),\n",
      " ('find', 186),\n",
      " ('propose', 158),\n",
      " ('appear', 154),\n",
      " ('require', 145),\n",
      " ('consider', 143),\n",
      " ('give', 126),\n",
      " ('form', 122),\n",
      " ('establish', 120)]\n"
     ]
    }
   ],
   "source": [
    "pprint(most_significant_verbs(doc, probability=0, count=10))"
   ]
  },
  {
   "cell_type": "code",
   "execution_count": 28,
   "metadata": {
    "scrolled": true
   },
   "outputs": [
    {
     "data": {
      "text/plain": [
       "<matplotlib.axes._subplots.AxesSubplot at 0x10b31e630>"
      ]
     },
     "execution_count": 28,
     "metadata": {},
     "output_type": "execute_result"
    },
    {
     "data": {
      "image/png": "[encoded data removed]",
      "text/plain": [
       "<matplotlib.figure.Figure at 0x10b6e1c88>"
      ]
     },
     "metadata": {},
     "output_type": "display_data"
    }
   ],
   "source": [
    "# How are the probabilities distributed in the text?\n",
    "import pandas as pd\n",
    "%matplotlib inline\n",
    "probabilities = [word.prob for word in doc]\n",
    "pd.Series(probabilities).hist()"
   ]
  },
  {
   "cell_type": "markdown",
   "metadata": {
    "collapsed": true
   },
   "source": [
    "From the above, it looks like the probability measure is not based on the whole corpus, but on a smaller context. Notice how the count differs based on the probability limit."
   ]
  },
  {
   "cell_type": "code",
   "execution_count": null,
   "metadata": {
    "collapsed": true
   },
   "outputs": [],
   "source": []
  }
 ],
 "metadata": {
  "kernelspec": {
   "display_name": "Python 3",
   "language": "python",
   "name": "python3"
  },
  "language_info": {
   "codemirror_mode": {
    "name": "ipython",
    "version": 3
   },
   "file_extension": ".py",
   "mimetype": "text/x-python",
   "name": "python",
   "nbconvert_exporter": "python",
   "pygments_lexer": "ipython3",
   "version": "3.6.2"
  }
 },
 "nbformat": 4,
 "nbformat_minor": 2
}
